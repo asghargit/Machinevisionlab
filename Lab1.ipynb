{
  "cells": [
    {
      "cell_type": "markdown",
      "metadata": {
        "id": "view-in-github",
        "colab_type": "text"
      },
      "source": [
        "<a href=\"https://colab.research.google.com/github/asghargit/Machinevisionlab/blob/main/Lab1.ipynb\" target=\"_parent\"><img src=\"https://colab.research.google.com/assets/colab-badge.svg\" alt=\"Open In Colab\"/></a>"
      ]
    },
    {
      "cell_type": "markdown",
      "metadata": {
        "id": "XfEhpfj_t3IM"
      },
      "source": [
        "#Lab 1: Introduction to NumPy\n",
        "\n",
        "Task:\n",
        "* Your task is to create a Python Class (`ArrayFuncs`) that contains methods to perform the following operations:\n",
        " * Elementwise Multiplication (`ele_mult(a,b)`) of N x 1 arrays\n",
        " * Inner Product of  N x 1 arrays (`inner_prod(a,b)`)  \n",
        " * Outer Product of N x 1 arrays (`outer_prod(a,b)`)\n",
        " * Matrix multiplucation of N x M matrices (`mat_mult(a,b)`)\n",
        "\n",
        " Note: Don't use the numpy inbuilt inner/outer functions, you must use matrix mutliplication to perform these operations\n",
        "\n",
        " Note 2: You do not need to include exception handling (this functionality will not be tested on submission).       \n",
        "\n",
        " Note 3: In this notebook we import Numpy as np, this means all the NumPy methods will be implemented as `np.method`.\n",
        "\n",
        "Learning Outcomes:\n",
        "* In this lab you will gain experience of constructing a python class with several methods, instantiating the class and testing your methods.\n",
        "* You will learn basic numpy operations including creating arrays/matrices and the difference between elementwise and matrix multiplication.\n",
        "\n"
      ]
    },
    {
      "cell_type": "markdown",
      "metadata": {
        "id": "c-p6gR36Ulr_"
      },
      "source": [
        "# Useful Information\n",
        "\n",
        "## Numpy Arrays (Matrices):\n",
        "\n",
        "> As we can see in the image below, we can create arrays in numpy of 1,2,3 (or even greater) dimensions. It is important to note that the 1D array is more properly called a vector, it is not explicit that it represents a row or column. In practice instead of vectors we use arrays of size N x 1 (N can be 2,3,4..), so these arrays can use use numpy functions such as matrix multiplication (and follow the rules of matrix multiplication). For example we can create a 3 x 1 array using np.array([[1],[2],[3]])\n",
        "\n",
        "![](https://fgnt.github.io/python_crashkurs_doc/_images/numpy_array_t.png)\n",
        "\n",
        "\n",
        "## Matrix Multiplication & Elementwise Multiplication\n",
        "\n",
        "> In matrix multiplication we require the inner dimension of the two matrices to be the same. The order of the matrices (or 2D arrays is important).\n",
        "\n",
        ">  In elementwise multiplication if the two arrays are the same size, then each element of the arrays multiplies the corresponding element of the 2nd arrays. If the arrays have at least one equal dimension and the other dimensions are 1 then the NumPy broadcasting rule applies. You can read more about [broadcasting in NumPy](https://numpy.org/doc/stable/user/basics.broadcasting.html) here. In this case here where we multiply the 1 x 3 array by the 3 x 3 array, the elements of the 1 x 3 array can be broadcast along the rows of the 3 x 3 array. It is important to note the differnce between elementwise multiplication and traditional matrix multiplication.\n",
        "\n",
        "![](https://github.com/tonyscan6003/etivities/blob/main/matrx_elem_Mult.jpg?raw=true)"
      ]
    },
    {
      "cell_type": "markdown",
      "metadata": {
        "id": "HFihJK79xH3E"
      },
      "source": [
        " ## Inner and Outer Product\n",
        "\n",
        "> We can also complete these inner and outer product computations using matrix multiplication.\n",
        "\n",
        " > As we can see in the image below, when we get the outer product of two 1D vectors $u$ & $v$ of size N x 1 we must get the transpose of one of the vectors and perform the computation $uv^T$ . (In linear (matrix) algebra the typical convention is that vectors represent n-rows and 1 column, so the transpose will be 1 row and n-columns). The outer product of two 1D vectors (or numpy arrays) will give an (n x n) 2D array.  \n",
        "\n",
        "![](https://media.cheggcdn.com/study/8a3/8a3993b3-d3e3-4885-a922-78c73a0f1d76/DC-1776V3.png)\n",
        "\n",
        " > In the inner product case we perform matrix multiplication $u^Tv$ such that the result is a scalar value.  \n",
        "\n",
        "\n",
        "\n"
      ]
    },
    {
      "cell_type": "markdown",
      "source": [
        "# Create Class\n",
        "In the code cell below you can create the python class ArrayFuncs"
      ],
      "metadata": {
        "id": "q1DdsCwt8I2T"
      }
    },
    {
      "cell_type": "code",
      "source": [
        "import numpy as np\n",
        "\n",
        "class ArrayFuncs:\n",
        "\n",
        "    # Init Statement\n",
        "    def __init__(self):\n",
        "        pass\n",
        "\n",
        "    def ele_mult(self,a,b):\n",
        "      return a * b\n",
        "\n",
        "    def inner_prod(self,a,b):\n",
        "      return a.T@b\n",
        "    def outer_prod(self,a,b):\n",
        "      return a@b.T\n",
        "\n",
        "    def mat_mult(self,a,b):\n",
        "      return a@b"
      ],
      "metadata": {
        "id": "rBzop5zW-vpQ"
      },
      "execution_count": null,
      "outputs": []
    },
    {
      "cell_type": "markdown",
      "source": [
        "# Test Your Class Methods\n",
        "\n",
        "In the code cell below you can instantiate an instance of your class and create your own tests to determine if your code is working. It is recommended that you check you are correctly creating arrays, use `np.shape` on any array to verify it's size. Check that you get element wise multiplication of two N x 1 arrays, the inner and outer produc are calculated correctly (inner product is scalar, outer product is matrix) and finnally check you correctly can multiply to arrays (ensure inner dimensions match)  We include the `if __name__ == \"__main__\":` statement so that this code is not executed when uploaded to code grade."
      ],
      "metadata": {
        "id": "MFfw_KPh8M47"
      }
    },
    {
      "cell_type": "code",
      "source": [
        "\n",
        "if __name__ == \"__main__\":\n",
        "    # a = np.array([[1],[2],[3]])\n",
        "    # b = np.array([[23],[24],[25]])\n",
        "  a = np.array([int(x) for x in input(\"Enter vector a: \").split(\",\")]).reshape(-1,1)\n",
        "  b = np.array([int(x) for x in input(\"Enter vector b: \").split(\",\")]).reshape(-1,1)\n",
        "  af = ArrayFuncs()\n",
        "\n",
        "  print(\"elementwise multiplication:\\n\", af.ele_mult(a,b))\n",
        "\n",
        "  print(\"Inner Product:\\n \", af.inner_prod(a,b))\n",
        "\n",
        "  print(\"Outer Product:\\n\", af.outer_prod(a,b))\n",
        "\n",
        "\n",
        "  A = np.array([[1,2,3],[4,5,6],[7,8,9]])\n",
        "  B = np.array([[23,24,25],[26,27,28],[29,30,31]])\n",
        "\n",
        "  print(\"Matrix Multiplication:\\n\", af.mat_mult(A,B))\n",
        "\n",
        "\n"
      ],
      "metadata": {
        "id": "IlF6C0iD0BQy",
        "colab": {
          "base_uri": "https://localhost:8080/"
        },
        "outputId": "329978f5-0430-4af9-fcfb-881362a9ee3e"
      },
      "execution_count": null,
      "outputs": [
        {
          "output_type": "stream",
          "name": "stdout",
          "text": [
            "Enter vector a: 23,21,10\n",
            "Enter vector b: 32,5,2\n",
            "elementwise multiplication:\n",
            " [[736]\n",
            " [105]\n",
            " [ 20]]\n",
            "Inner Product:\n",
            "  [[861]]\n",
            "Outer Product:\n",
            " [[736 115  46]\n",
            " [672 105  42]\n",
            " [320  50  20]]\n",
            "Matrix Multiplication:\n",
            " [[162 168 174]\n",
            " [396 411 426]\n",
            " [630 654 678]]\n"
          ]
        }
      ]
    }
  ],
  "metadata": {
    "colab": {
      "provenance": [],
      "include_colab_link": true
    },
    "kernelspec": {
      "display_name": "Python 3",
      "name": "python3"
    },
    "language_info": {
      "codemirror_mode": {
        "name": "ipython",
        "version": 3
      },
      "file_extension": ".py",
      "mimetype": "text/x-python",
      "name": "python",
      "nbconvert_exporter": "python",
      "pygments_lexer": "ipython3",
      "version": "3.10.12"
    }
  },
  "nbformat": 4,
  "nbformat_minor": 0
}