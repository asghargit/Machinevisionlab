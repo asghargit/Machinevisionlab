{
  "cells": [
    {
      "cell_type": "markdown",
      "metadata": {
        "id": "view-in-github",
        "colab_type": "text"
      },
      "source": [
        "<a href=\"https://colab.research.google.com/github/asghargit/Machinevisionlab/blob/main/Lab2.ipynb\" target=\"_parent\"><img src=\"https://colab.research.google.com/assets/colab-badge.svg\" alt=\"Open In Colab\"/></a>"
      ]
    },
    {
      "cell_type": "markdown",
      "metadata": {
        "id": "XfEhpfj_t3IM"
      },
      "source": [
        "#Lab 2: Introduction to Convolution\n",
        "\n",
        "Task: In the lab you will create a class `PerfConv` that contains the method `conv_1d` to perform convolution between a 1 dimensional input sequence and 1 dimensional kernel.\n",
        "\n",
        "The class should be able to handle the different padding types. Valid padding (no padding), Full padding (ensures kernel just overlaps seqence), Same padding (makes input and output size the same).\n",
        "\n",
        "> Hint: The convolution in your routine can be performed very similarly to how we perform the convolution by hand. We just need to mutliply the padded sequence (use np.pad to apply padding) by the kernel and sum the result (use np.dot for multiply and sum)\n",
        "\n",
        "> From the [Guide to convolutional Arithmetic](https://arxiv.org/pdf/1603.07285) see pg 12/13, we can find equations that give us the padding size and output sequence length (same as padded sequence) for same and valid padding.\n",
        "\n",
        "Learning Outcomes: Develop understanding of implementing convolution in python and different types of padding.\n",
        "\n",
        "\n",
        "\n"
      ]
    },
    {
      "cell_type": "markdown",
      "metadata": {
        "id": "zUiCcvRxsIfQ"
      },
      "source": [
        "#House Keeping\n",
        "Import packages"
      ]
    },
    {
      "cell_type": "code",
      "execution_count": null,
      "metadata": {
        "id": "_LLUtrMGtro5"
      },
      "outputs": [],
      "source": [
        "import numpy as np\n",
        "import math"
      ]
    },
    {
      "cell_type": "markdown",
      "metadata": {
        "id": "N_rKs7QZ9jv0"
      },
      "source": [
        "# Implement `PerfConv` Class"
      ]
    },
    {
      "cell_type": "code",
      "source": [
        "class PerfConv:\n",
        "  def __init__(self):\n",
        "      pass\n",
        "\n",
        "  def conv_1d(self,ip_seq,kernel,mode='valid'):\n",
        "    # ip_seq, kernel: 1d numpy arrays\n",
        "    # mode can be 'valid', 'same' or 'full'\n",
        "    x=np.array(ip_seq)\n",
        "    k=np.array(kernel)\n",
        "\n",
        "    n = len(x)\n",
        "    m = len(k)\n",
        "\n",
        "    k = k[::-1]  #flip the kernel step 1\n",
        "\n",
        "    if mode == 'valid':   # type of padding (valid,same,full)\n",
        "      pad_left = pad_right = 0\n",
        "      out_len = n - m + 1\n",
        "      if out_len<0:\n",
        "        return np.array([], dtype=float)\n",
        "    elif mode == 'same':\n",
        "      out_len = n\n",
        "      total_pad = max(m - 1,0)\n",
        "      pad_left = total_pad // 2\n",
        "      pad_right = total_pad - pad_left\n",
        "    elif mode == 'full':\n",
        "      pad_left = pad_right = m - 1\n",
        "      out_len = n + m - 1\n",
        "    else:\n",
        "      raise ValueError(\"Invalid padding mode. Use 'valid', 'same', or 'full'.\")  #should be a valid input\n",
        "\n",
        "    x_padd= np.pad(x, (pad_left, pad_right), mode='constant') #gives padding with zeros\n",
        "\n",
        "    out = np.zeros(out_len , dtype=x.dtype)\n",
        "\n",
        "    #the actual convolution step\n",
        "    for i in range(out_len):\n",
        "      window = x_padd[i:i+m]\n",
        "      # Ensure window and kernel have the same length before dot product\n",
        "\n",
        "      out[i] = np.dot(window,k)\n",
        "    return out"
      ],
      "metadata": {
        "id": "M1FQU1vBBZku"
      },
      "execution_count": 26,
      "outputs": []
    },
    {
      "cell_type": "markdown",
      "source": [
        "# Test Class Method\n",
        "\n",
        "Test your the conv_1d method using a range of kernel sizes and sequences.\n",
        "As shown in the Guide to Convolutional Arithmetic Section 2.1, we can apply the Full and Valid padding to any input and kernel size (with stride assumed =1). In the case of same padding the kernel must have an odd size."
      ],
      "metadata": {
        "id": "PLcojj2JqhKR"
      }
    },
    {
      "cell_type": "code",
      "execution_count": 31,
      "metadata": {
        "id": "QVwekFho_NSa",
        "colab": {
          "base_uri": "https://localhost:8080/"
        },
        "outputId": "a15ea02f-4cc3-4471-bc6a-f6db2eb6e8af"
      },
      "outputs": [
        {
          "output_type": "stream",
          "name": "stdout",
          "text": [
            "The result of convolution is = [ 2. -3.  1.  3. -5.  2.]\n",
            "Convolved Output: [ 2 -3  1  3 -5  2]\n"
          ]
        }
      ],
      "source": [
        "if __name__ == \"__main__\":\n",
        "    # Define sequence and Kernel\n",
        "    s = [2,-1,0,3,-2]\n",
        "    k = [1,-1]\n",
        "\n",
        "    # Perform Convolution\n",
        "    PF = PerfConv()\n",
        "\n",
        "    op_seq = PF.conv_1d(s,k,mode = 'full')\n",
        "\n",
        "    # Print the result\n",
        "    print('The result of convolution is =',op_seq)\n",
        "\n",
        "\n",
        "    # Check your Result against Numpy Convolve Function\n",
        "    convolved = np.convolve(s, k, mode='full')\n",
        "    print(\"Convolved Output:\", convolved)\n",
        "\n"
      ]
    }
  ],
  "metadata": {
    "colab": {
      "provenance": [],
      "include_colab_link": true
    },
    "kernelspec": {
      "display_name": "Python 3",
      "name": "python3"
    },
    "language_info": {
      "codemirror_mode": {
        "name": "ipython",
        "version": 3
      },
      "file_extension": ".py",
      "mimetype": "text/x-python",
      "name": "python",
      "nbconvert_exporter": "python",
      "pygments_lexer": "ipython3",
      "version": "3.10.12"
    }
  },
  "nbformat": 4,
  "nbformat_minor": 0
}